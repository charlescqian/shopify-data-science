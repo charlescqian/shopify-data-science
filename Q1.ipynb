{
 "cells": [
  {
   "cell_type": "markdown",
   "metadata": {},
   "source": [
    "# Fall 2021 Shopify Data Science Intern Challenge\n",
    "\n",
    "Charles Qian [Github](https://github.com/charlescqian/shopify-data-science)\n",
    "\n",
    "May 9, 2021\n",
    "\n",
    "The given data has been downloaded into a .csv file called data.csv. \n",
    "We load the data into a dataframe."
   ]
  },
  {
   "cell_type": "code",
   "execution_count": 3,
   "metadata": {},
   "outputs": [],
   "source": [
    "import pandas as pd\n",
    "\n",
    "df = pd.read_csv('data.csv')"
   ]
  },
  {
   "cell_type": "markdown",
   "metadata": {},
   "source": [
    "## a. Think about what could be going wrong with our calculation. Think about a better way to evaluate this data. \n",
    "\n",
    "First we confirm the given AOV of $3145.13."
   ]
  },
  {
   "cell_type": "code",
   "execution_count": 4,
   "metadata": {},
   "outputs": [
    {
     "name": "stdout",
     "output_type": "stream",
     "text": [
      "Average Order Value: $3145.13\n"
     ]
    }
   ],
   "source": [
    "no_orders = df.shape[0]\n",
    "total_order_amount = sum(df['order_amount'])\n",
    "aov = total_order_amount/no_orders\n",
    "\n",
    "print(f'Average Order Value: ${round(aov,2)}')"
   ]
  },
  {
   "cell_type": "markdown",
   "metadata": {},
   "source": [
    "By quickly looking at the data, we notice that most of the orders are of small quantities of 1-5. The scale of the order amount for these are in the range of a few hundred dollars. However, there are a few very large orders where 2000 units are being ordered at once, with an order value of \\\\$704,000. These are all from a single customer/user with user_id 607. These are likely wholesale orders. There also seems to be a very expensive item in which each unit costs \\\\$25,725. These two points are definite outliers and they are the cause of AOV being higher than expected. \n",
    "\n",
    "A better way to report this metric would be to exclude the wholesale orders and to calculate the AOV for retail orders only. We can do this by either excluding any orders from user_id 607 or we can set a limit for what would be a reasonable size for a retail order. \n",
    "\n",
    "We have to be careful when defining this limit, due to the item that costs \\\\$25,725. Should this limit be based on the value of the order (order_amount) or the number of items in an order (total_items)? For now, let's define any orders with an order_amount of over \\\\$10,000 to be wholesale. "
   ]
  },
  {
   "cell_type": "code",
   "execution_count": 26,
   "metadata": {},
   "outputs": [
    {
     "name": "stdout",
     "output_type": "stream",
     "text": [
      "Average Retail Order Value: $302.58\n"
     ]
    }
   ],
   "source": [
    "retail_df = df[(df['order_amount'] <= 10000)]\n",
    "\n",
    "total_retail_order_amount = sum(retail_df['order_amount'])\n",
    "no_retail_orders = retail_df.shape[0]\n",
    "\n",
    "retail_aov = total_retail_order_amount/no_retail_orders\n",
    "\n",
    "print(f'Average Retail Order Value: ${round(retail_aov,2)}')"
   ]
  },
  {
   "cell_type": "markdown",
   "metadata": {},
   "source": [
    "We can see from above, that by excluding the two outliers, we get a much more reasonable average order value for sneaker stores of $302."
   ]
  },
  {
   "cell_type": "markdown",
   "metadata": {},
   "source": [
    "## b. What metric would you report for this dataset? \n",
    "\n",
    "I believe a very useful metric for this dataset would be % of monthly revenue from retail sales vs wholesale. This is a good metric because it allows the business operator to better allocate their resources, such as marketing or customer relationship management. For example, if they want more of their revenue to come from retail sales, they can increase spending in marketing and promotions. On the other hand, if they rely on wholesale for the majority of the revenue, then perhaps they would like to improve their customer relationship management to ensure the wholesale customers keep coming back."
   ]
  },
  {
   "cell_type": "markdown",
   "metadata": {},
   "source": [
    "## c. What is its value? \n",
    "\n",
    "To compute the % of monthly revenue from retail sales vs wholesale, we will follow the previous definition of categorizing any orders with an order_amount of over $10,000 to be wholesale.\n",
    "\n",
    "Since we have already computed the total_retail_order_amount and total_order_amount, this metric is very straightforward to compute."
   ]
  },
  {
   "cell_type": "code",
   "execution_count": 29,
   "metadata": {},
   "outputs": [
    {
     "name": "stdout",
     "output_type": "stream",
     "text": [
      "% Of Monthly Revenue from Retail: 9.5%\n",
      "% Of Monthly Revenue from Wholesale: 90.5%\n"
     ]
    }
   ],
   "source": [
    "perc_revenue_retail = total_retail_order_amount / total_order_amount\n",
    "\n",
    "print(f'% Of Monthly Revenue from Retail: {round(perc_revenue_retail*100,2)}%')\n",
    "print(f'% Of Monthly Revenue from Wholesale: {round((1-perc_revenue_retail)*100,2)}%')"
   ]
  },
  {
   "cell_type": "markdown",
   "metadata": {},
   "source": [
    "Clearly, from the above results, we can see that the vast majority of revenue comes from wholesale. Therefore, the business operator should likely invest in maintaining the relationship with their wholesale buyers. "
   ]
  },
  {
   "cell_type": "code",
   "execution_count": null,
   "metadata": {},
   "outputs": [],
   "source": []
  }
 ],
 "metadata": {
  "kernelspec": {
   "display_name": "Python 3",
   "language": "python",
   "name": "python3"
  },
  "language_info": {
   "codemirror_mode": {
    "name": "ipython",
    "version": 3
   },
   "file_extension": ".py",
   "mimetype": "text/x-python",
   "name": "python",
   "nbconvert_exporter": "python",
   "pygments_lexer": "ipython3",
   "version": "3.8.2"
  },
  "metadata": {
   "interpreter": {
    "hash": "2db524e06e9f5f4ffedc911c917cb75e12dbc923643829bf417064a77eb14d37"
   }
  }
 },
 "nbformat": 4,
 "nbformat_minor": 2
}
